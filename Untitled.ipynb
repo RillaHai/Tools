{
 "cells": [
  {
   "cell_type": "code",
   "execution_count": 163,
   "metadata": {
    "collapsed": true
   },
   "outputs": [],
   "source": [
    "import numpy as np\n",
    "import six.moves.cPickle as pickle\n",
    "\n",
    "#load equal class data\n",
    "feature = pickle.load(open(\"equal_class_feature\"))\n",
    "label = pickle.load(open(\"equal_class_num_label\"))\n",
    "x_train = feature[:19000]\n",
    "y_train = label[:19000]\n",
    "x_dev = feature[19000:]\n",
    "y_dev = label[19000:]\n"
   ]
  },
  {
   "cell_type": "code",
   "execution_count": null,
   "metadata": {
    "collapsed": true
   },
   "outputs": [],
   "source": [
    "#unfiltered data\n",
    "x_train = pickle.load(open(\"train_data\"))\n",
    "y_train = pickle.load(open(\"train_label\"))\n",
    "x_dev = pickle.load(open(\"dev_data\"))\n",
    "y_dev = pickle.load(open(\"dev_label\"))"
   ]
  },
  {
   "cell_type": "code",
   "execution_count": 166,
   "metadata": {
    "collapsed": false
   },
   "outputs": [
    {
     "ename": "AttributeError",
     "evalue": "'list' object has no attribute 'shape'",
     "output_type": "error",
     "traceback": [
      "\u001b[0;31m---------------------------------------------------------------------------\u001b[0m",
      "\u001b[0;31mAttributeError\u001b[0m                            Traceback (most recent call last)",
      "\u001b[0;32m<ipython-input-166-aeb10ea488f7>\u001b[0m in \u001b[0;36m<module>\u001b[0;34m()\u001b[0m\n\u001b[1;32m     10\u001b[0m \u001b[0;31m#x_dev, y_dev = reformat(x_dev[:20000],y_dev[:20000])\u001b[0m\u001b[0;34m\u001b[0m\u001b[0;34m\u001b[0m\u001b[0m\n\u001b[1;32m     11\u001b[0m \u001b[0;34m\u001b[0m\u001b[0m\n\u001b[0;32m---> 12\u001b[0;31m \u001b[0;32mprint\u001b[0m\u001b[0;34m(\u001b[0m\u001b[0;34m'Training set'\u001b[0m\u001b[0;34m,\u001b[0m \u001b[0mx_train\u001b[0m\u001b[0;34m.\u001b[0m\u001b[0mshape\u001b[0m\u001b[0;34m,\u001b[0m \u001b[0my_train\u001b[0m\u001b[0;34m.\u001b[0m\u001b[0mshape\u001b[0m\u001b[0;34m)\u001b[0m\u001b[0;34m\u001b[0m\u001b[0m\n\u001b[0m\u001b[1;32m     13\u001b[0m \u001b[0;32mprint\u001b[0m\u001b[0;34m(\u001b[0m\u001b[0mx_train\u001b[0m\u001b[0;34m.\u001b[0m\u001b[0mdtype\u001b[0m\u001b[0;34m,\u001b[0m\u001b[0my_train\u001b[0m\u001b[0;34m.\u001b[0m\u001b[0mdtype\u001b[0m\u001b[0;34m,\u001b[0m\u001b[0mx_dev\u001b[0m\u001b[0;34m.\u001b[0m\u001b[0mdtype\u001b[0m\u001b[0;34m,\u001b[0m\u001b[0my_dev\u001b[0m\u001b[0;34m.\u001b[0m\u001b[0mdtype\u001b[0m\u001b[0;34m)\u001b[0m\u001b[0;34m\u001b[0m\u001b[0m\n\u001b[1;32m     14\u001b[0m \u001b[0;32mprint\u001b[0m\u001b[0;34m(\u001b[0m\u001b[0;34m'Validation set'\u001b[0m\u001b[0;34m,\u001b[0m \u001b[0mx_dev\u001b[0m\u001b[0;34m.\u001b[0m\u001b[0mshape\u001b[0m\u001b[0;34m,\u001b[0m \u001b[0my_dev\u001b[0m\u001b[0;34m.\u001b[0m\u001b[0mshape\u001b[0m\u001b[0;34m)\u001b[0m\u001b[0;34m\u001b[0m\u001b[0m\n",
      "\u001b[0;31mAttributeError\u001b[0m: 'list' object has no attribute 'shape'"
     ]
    }
   ],
   "source": [
    "nf = 8\n",
    "nl = 2\n",
    "def reformat(dataset, labels):\n",
    "    dataset = np.array(dataset).reshape((-1, nf)).astype(np.float32)\n",
    "    # Map 2 to [0.0, 1.0, 0.0 ...], 3 to [0.0, 0.0, 1.0 ...]\n",
    "    labels = (np.arange(nl) == np.array(labels)[:,None]).astype(np.float32)\n",
    "    return dataset, labels\n",
    "\n",
    "#x_train, y_train = reformat(x_train[:190000],y_train[:190000])\n",
    "#x_dev, y_dev = reformat(x_dev[:20000],y_dev[:20000])\n",
    "\n",
    "print('Training set', x_train.shape, y_train.shape)\n",
    "print(x_train.dtype,y_train.dtype,x_dev.dtype,y_dev.dtype)\n",
    "print('Validation set', x_dev.shape, y_dev.shape)\n",
    "#print(y_dev[:35])"
   ]
  },
  {
   "cell_type": "code",
   "execution_count": null,
   "metadata": {
    "collapsed": true
   },
   "outputs": [],
   "source": []
  },
  {
   "cell_type": "code",
   "execution_count": 169,
   "metadata": {
    "collapsed": true
   },
   "outputs": [],
   "source": [
    "def accuracy(predictions, labels):\n",
    "    return (100.0 * np.sum(np.argmax(predictions,0) == np.argmax(labels,0))\n",
    "          / predictions.shape[0])"
   ]
  },
  {
   "cell_type": "code",
   "execution_count": 146,
   "metadata": {
    "collapsed": false
   },
   "outputs": [
    {
     "name": "stdout",
     "output_type": "stream",
     "text": [
      "9500\n"
     ]
    }
   ],
   "source": [
    "def true_class(p,l):\n",
    "    tp = 0\n",
    "    ta = 0\n",
    "    p = np.ndarray.tolist(p)\n",
    "    l = np.ndarray.tolist(l)\n",
    "    for x,y in zip (p,l):\n",
    "        if x == y == [0.0, 1.0]:\n",
    "            tp+=1\n",
    "        if y == [0.0, 1.0]:\n",
    "            ta+=1\n",
    "    return tp#float(tp/ta)\n",
    "\n",
    "print(true_class(y_train,y_train))\n"
   ]
  },
  {
   "cell_type": "code",
   "execution_count": 164,
   "metadata": {
    "collapsed": false
   },
   "outputs": [],
   "source": [
    "#libsvm\n",
    "from sklearn.svm import LinearSVC\n",
    "clf = LinearSVC()\n",
    "clf.fit(x_train,y_train)\n",
    "pred = clf.predict(x_dev)\n"
   ]
  },
  {
   "cell_type": "code",
   "execution_count": 170,
   "metadata": {
    "collapsed": false
   },
   "outputs": [
    {
     "name": "stdout",
     "output_type": "stream",
     "text": [
      "(array([False,  True,  True,  True, False,  True, False,  True, False,\n",
      "        True, False,  True, False,  True, False], dtype=bool), array([False,  True, False,  True, False,  True, False,  True, False,\n",
      "        True, False,  True, False,  True, False], dtype=bool))\n",
      "0.100200400802\n"
     ]
    }
   ],
   "source": [
    "print(pred[:15],y_dev[:15])\n",
    "y_dev = np.array(y_dev)\n",
    "print(accuracy(pred,y_dev))"
   ]
  },
  {
   "cell_type": "code",
   "execution_count": 153,
   "metadata": {
    "collapsed": false,
    "scrolled": true
   },
   "outputs": [
    {
     "name": "stdout",
     "output_type": "stream",
     "text": [
      "loss at step 0: 23529.7\n",
      "accuracy: 54.8%\n",
      "true accuracy: 139.0\n",
      "valid accuracy: 42.6%\n",
      "true valid accuracy:344.0\n",
      "loss at step 1: 20946.8\n",
      "accuracy: 45.5%\n",
      "true accuracy: 375.0\n",
      "valid accuracy: 50.0%\n",
      "true valid accuracy:0.0\n",
      "loss at step 2: 189.2\n",
      "accuracy: 50.0%\n",
      "true accuracy: 0.0\n",
      "valid accuracy: 50.0%\n",
      "true valid accuracy:0.0\n",
      "loss at step 3: 188.9\n",
      "accuracy: 50.0%\n",
      "true accuracy: 0.0\n",
      "valid accuracy: 50.0%\n",
      "true valid accuracy:0.0\n",
      "loss at step 4: 188.6\n",
      "accuracy: 50.0%\n",
      "true accuracy: 0.0\n",
      "valid accuracy: 50.0%\n",
      "true valid accuracy:0.0\n",
      "loss at step 5: 188.3\n",
      "accuracy: 50.0%\n",
      "true accuracy: 0.0\n",
      "valid accuracy: 50.0%\n",
      "true valid accuracy:0.0\n",
      "loss at step 6: 188.0\n",
      "accuracy: 50.0%\n",
      "true accuracy: 0.0\n",
      "valid accuracy: 50.0%\n",
      "true valid accuracy:0.0\n",
      "loss at step 7: 187.7\n",
      "accuracy: 50.0%\n",
      "true accuracy: 0.0\n",
      "valid accuracy: 50.0%\n",
      "true valid accuracy:0.0\n",
      "loss at step 8: 187.4\n",
      "accuracy: 50.0%\n",
      "true accuracy: 0.0\n",
      "valid accuracy: 50.0%\n",
      "true valid accuracy:0.0\n",
      "loss at step 9: 187.1\n",
      "accuracy: 50.0%\n",
      "true accuracy: 0.0\n",
      "valid accuracy: 50.0%\n",
      "true valid accuracy:0.0\n",
      "loss at step 10: 186.8\n",
      "accuracy: 50.0%\n",
      "true accuracy: 0.0\n",
      "valid accuracy: 50.0%\n",
      "true valid accuracy:0.0\n",
      "loss at step 11: 186.5\n",
      "accuracy: 50.0%\n",
      "true accuracy: 0.0\n",
      "valid accuracy: 50.0%\n",
      "true valid accuracy:0.0\n",
      "loss at step 12: 186.2\n",
      "accuracy: 50.0%\n",
      "true accuracy: 0.0\n",
      "valid accuracy: 50.0%\n",
      "true valid accuracy:0.0\n",
      "loss at step 13: 185.9\n",
      "accuracy: 50.0%\n",
      "true accuracy: 0.0\n",
      "valid accuracy: 50.0%\n",
      "true valid accuracy:0.0\n",
      "loss at step 14: 185.5\n",
      "accuracy: 50.0%\n",
      "true accuracy: 0.0\n",
      "valid accuracy: 50.0%\n",
      "true valid accuracy:0.0\n",
      "loss at step 15: 185.2\n",
      "accuracy: 50.0%\n",
      "true accuracy: 0.0\n",
      "valid accuracy: 50.0%\n",
      "true valid accuracy:0.0\n",
      "loss at step 16: 184.9\n",
      "accuracy: 50.0%\n",
      "true accuracy: 0.0\n",
      "valid accuracy: 50.0%\n",
      "true valid accuracy:0.0\n",
      "loss at step 17: 184.6\n",
      "accuracy: 50.0%\n",
      "true accuracy: 0.0\n",
      "valid accuracy: 50.0%\n",
      "true valid accuracy:0.0\n",
      "loss at step 18: 184.3\n",
      "accuracy: 50.0%\n",
      "true accuracy: 0.0\n",
      "valid accuracy: 50.0%\n",
      "true valid accuracy:0.0\n"
     ]
    }
   ],
   "source": [
    "import tensorflow as tf\n",
    "import numpy as np\n",
    "\n",
    "N, D, H, H1, C = 1000, 8, 5, 5, 2 \n",
    "\n",
    "graph = tf.Graph()\n",
    "with graph.as_default():\n",
    "\n",
    "    x = tf.placeholder(tf.float32,shape = (N,D))\n",
    "    y = tf.placeholder(tf.float32,shape = (N,C))\n",
    "    x_d = tf.constant(x_dev)\n",
    "    \n",
    "    w1 = tf.Variable(tf.truncated_normal([D,H]))\n",
    "    w2 = tf.Variable(tf.truncated_normal([H,C]))\n",
    "    w3 = tf.Variable(tf.truncated_normal([H1,C]))\n",
    "    b1 = tf.Variable(tf.zeros([H]))\n",
    "    b2 = tf.Variable(tf.zeros([C]))\n",
    "    b3 = tf.Variable(tf.zeros([C]))\n",
    "    \n",
    "    def forward_prop(data):\n",
    "        h1 = tf.nn.relu(tf.matmul(data,w1)) + b1\n",
    "        return tf.matmul(h1,w2) + b2\n",
    "    \n",
    "    logits = forward_prop(x)\n",
    "    loss = tf.reduce_mean(tf.nn.softmax_cross_entropy_with_logits(logits,y))\n",
    "    loss += 0.5*tf.nn.l2_loss(w1)+tf.nn.l2_loss(w2)\n",
    "    \n",
    "    learning_rate = 1e-3\n",
    "    optimizer = tf.train.GradientDescentOptimizer(learning_rate).minimize(loss)\n",
    "    \n",
    "    p_train = tf.nn.softmax(logits)\n",
    "    p_dev = tf.nn.softmax(forward_prop(x_d))\n",
    "    \n",
    "    num_step =19\n",
    "    offset = 0\n",
    "    with tf.Session (graph=graph) as sess:\n",
    "        tf.initialize_all_variables().run()\n",
    "        for step in range (num_step):\n",
    "            x_batch = x_train[offset:offset+N]\n",
    "            y_batch = y_train[offset:offset+N]\n",
    "            offset+=N\n",
    "            feed_dict = {x:x_batch,y:y_batch}\n",
    "            \n",
    "            _,l,p = sess.run([optimizer,loss,p_train],feed_dict = feed_dict)\n",
    "            if step%1 == 0:\n",
    "                print(\"loss at step %d: %.1f\" %(step,l))\n",
    "                print(\"accuracy: %.1f%%\" % accuracy(p,y_batch))\n",
    "                \n",
    "                print(\"true accuracy: %.1f\" % true_class(p,y_batch))\n",
    "                #print(p[:35],y_batch[:10])\n",
    "                print(\"valid accuracy: %.1f%%\" % accuracy(p_dev.eval(),y_dev))\n",
    "                print(\"true valid accuracy:%.1f\" % true_class(p_dev.eval(),y_dev))"
   ]
  },
  {
   "cell_type": "code",
   "execution_count": null,
   "metadata": {
    "collapsed": true
   },
   "outputs": [],
   "source": []
  }
 ],
 "metadata": {
  "kernelspec": {
   "display_name": "Python 2",
   "language": "python",
   "name": "python2"
  },
  "language_info": {
   "codemirror_mode": {
    "name": "ipython",
    "version": 2
   },
   "file_extension": ".py",
   "mimetype": "text/x-python",
   "name": "python",
   "nbconvert_exporter": "python",
   "pygments_lexer": "ipython2",
   "version": "2.7.6"
  }
 },
 "nbformat": 4,
 "nbformat_minor": 0
}
