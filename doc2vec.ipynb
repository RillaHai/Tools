{
 "cells": [
  {
   "cell_type": "markdown",
   "metadata": {
    "collapsed": true
   },
   "source": [
    "# Code for Selecting Similar Corpus\n",
    "## use doc2vec\n",
    "\n",
    "First read all the data turn them to dic, vectorize all data and build the model. Second, infer a special corpus you want to caculate the similarity. And the result is print out "
   ]
  },
  {
   "cell_type": "code",
   "execution_count": 3,
   "metadata": {
    "collapsed": false
   },
   "outputs": [
    {
     "ename": "StopIteration",
     "evalue": "",
     "output_type": "error",
     "traceback": [
      "\u001b[0;31m---------------------------------------------------------------------------\u001b[0m",
      "\u001b[0;31mStopIteration\u001b[0m                             Traceback (most recent call last)",
      "\u001b[0;32m<ipython-input-3-1946f0630e13>\u001b[0m in \u001b[0;36m<module>\u001b[0;34m()\u001b[0m\n\u001b[1;32m     18\u001b[0m     \u001b[0;32mreturn\u001b[0m \u001b[0mdirs\u001b[0m\u001b[0;34m\u001b[0m\u001b[0m\n\u001b[1;32m     19\u001b[0m \u001b[0;34m\u001b[0m\u001b[0m\n\u001b[0;32m---> 20\u001b[0;31m \u001b[0mtrain_file\u001b[0m \u001b[0;34m=\u001b[0m \u001b[0;34m[\u001b[0m\u001b[0mf\u001b[0m \u001b[0;32mfor\u001b[0m \u001b[0mf\u001b[0m \u001b[0;32min\u001b[0m \u001b[0mget_name\u001b[0m\u001b[0;34m(\u001b[0m\u001b[0mget_dir\u001b[0m\u001b[0;34m(\u001b[0m\u001b[0mpath\u001b[0m\u001b[0;34m)\u001b[0m\u001b[0;34m)\u001b[0m \u001b[0;32mif\u001b[0m \u001b[0mf\u001b[0m\u001b[0;34m.\u001b[0m\u001b[0msplit\u001b[0m\u001b[0;34m(\u001b[0m\u001b[0;34m\".\"\u001b[0m\u001b[0;34m)\u001b[0m\u001b[0;34m[\u001b[0m\u001b[0;36m1\u001b[0m\u001b[0;34m]\u001b[0m \u001b[0;34m==\u001b[0m \u001b[0;34m\"en\"\u001b[0m\u001b[0;34m]\u001b[0m\u001b[0;34m\u001b[0m\u001b[0m\n\u001b[0m",
      "\u001b[0;32m<ipython-input-3-1946f0630e13>\u001b[0m in \u001b[0;36mget_dir\u001b[0;34m(path)\u001b[0m\n\u001b[1;32m     15\u001b[0m     \u001b[0;32mreturn\u001b[0m \u001b[0mallfile\u001b[0m\u001b[0;34m\u001b[0m\u001b[0m\n\u001b[1;32m     16\u001b[0m \u001b[0;32mdef\u001b[0m \u001b[0mget_dir\u001b[0m\u001b[0;34m(\u001b[0m\u001b[0mpath\u001b[0m\u001b[0;34m)\u001b[0m\u001b[0;34m:\u001b[0m\u001b[0;34m\u001b[0m\u001b[0m\n\u001b[0;32m---> 17\u001b[0;31m     \u001b[0mdirs\u001b[0m \u001b[0;34m=\u001b[0m \u001b[0;34m[\u001b[0m\u001b[0mos\u001b[0m\u001b[0;34m.\u001b[0m\u001b[0mpath\u001b[0m\u001b[0;34m.\u001b[0m\u001b[0mjoin\u001b[0m\u001b[0;34m(\u001b[0m\u001b[0mpath\u001b[0m\u001b[0;34m,\u001b[0m\u001b[0mfn\u001b[0m\u001b[0;34m)\u001b[0m \u001b[0;32mfor\u001b[0m \u001b[0mfn\u001b[0m \u001b[0;32min\u001b[0m \u001b[0mnext\u001b[0m\u001b[0;34m(\u001b[0m\u001b[0mos\u001b[0m\u001b[0;34m.\u001b[0m\u001b[0mwalk\u001b[0m\u001b[0;34m(\u001b[0m\u001b[0mpath\u001b[0m\u001b[0;34m)\u001b[0m\u001b[0;34m)\u001b[0m\u001b[0;34m[\u001b[0m\u001b[0;36m1\u001b[0m\u001b[0;34m]\u001b[0m\u001b[0;34m]\u001b[0m\u001b[0;34m\u001b[0m\u001b[0m\n\u001b[0m\u001b[1;32m     18\u001b[0m     \u001b[0;32mreturn\u001b[0m \u001b[0mdirs\u001b[0m\u001b[0;34m\u001b[0m\u001b[0m\n\u001b[1;32m     19\u001b[0m \u001b[0;34m\u001b[0m\u001b[0m\n",
      "\u001b[0;31mStopIteration\u001b[0m: "
     ]
    }
   ],
   "source": [
    "import os\n",
    "import gensim\n",
    "import os\n",
    "import collections\n",
    "import smart_open\n",
    "import random\n",
    "\n",
    "#extract training files\n",
    "path = \"/home/work/SSData/en_zh-cn/\"\n",
    "\n",
    "def get_name(path):\n",
    "    allfile = []\n",
    "    for p in path:\n",
    "        allfile.extend([os.path.join(p,fn) for fn in next(os.walk(p))[2]])\n",
    "    return allfile\n",
    "def get_dir(path):\n",
    "    dirs = [os.path.join(path,fn) for fn in next(os.walk(path))[1]]\n",
    "    return dirs\n",
    "\n",
    "train_file = [f for f in get_name(get_dir(path)) if f.split(\".\")[1] == \"en\"]\n"
   ]
  },
  {
   "cell_type": "code",
   "execution_count": 36,
   "metadata": {
    "collapsed": false
   },
   "outputs": [
    {
     "data": {
      "text/plain": [
       "33"
      ]
     },
     "execution_count": 36,
     "metadata": {},
     "output_type": "execute_result"
    }
   ],
   "source": [
    "def read_corpus(train_file, tokens_only=False):\n",
    "    for ix,t in enumerate(train_file):\n",
    "        onelinefile = \"\"\n",
    "        with smart_open.smart_open(t, encoding=\"utf-8\") as f:\n",
    "            for line in f:\n",
    "                if len(line.strip()) !=0:\n",
    "                    onelinefile += line\n",
    "        if tokens_only:\n",
    "            yield gensim.utils.simple_preprocess(onelinefile)\n",
    "        else:\n",
    "            yield gensim.models.doc2vec.TaggedDocument(gensim.utils.simple_preprocess(onelinefile), [ix])\n",
    "                \n",
    "            \n",
    "\n",
    "train_corpus = list(read_corpus(test_file))\n",
    "\n",
    "len(train_corpus)"
   ]
  },
  {
   "cell_type": "code",
   "execution_count": 38,
   "metadata": {
    "collapsed": false
   },
   "outputs": [
    {
     "name": "stdout",
     "output_type": "stream",
     "text": [
      "CPU times: user 44.5 s, sys: 4min 8s, total: 4min 53s\n",
      "Wall time: 25 s\n"
     ]
    },
    {
     "data": {
      "text/plain": [
       "2816180"
      ]
     },
     "execution_count": 38,
     "metadata": {},
     "output_type": "execute_result"
    }
   ],
   "source": [
    "#intialize model and train the corpus\n",
    "model = gensim.models.doc2vec.Doc2Vec(size=50, min_count=2, iter=20)\n",
    "model.build_vocab(train_corpus)\n",
    "%time model.train(train_corpus)"
   ]
  },
  {
   "cell_type": "code",
   "execution_count": 41,
   "metadata": {
    "collapsed": false
   },
   "outputs": [
    {
     "name": "stdout",
     "output_type": "stream",
     "text": [
      "Document (1): «party needs more copies if there is necessary need of construction it shall get the approval of the owner party expenses shall be borne to party notification of defects commercial operation period warranty period engineering units means the component of the individual works can construct independently headings and marginal notes of each clause only for the convenience of reading shall not be as part of clause this contract document is written and explained in chinese the laws and regulations of the people republic of china and the laws and regulations of myanmar shall apply this contract document the contract price is rmb upper case contract no the above drawings provided to party or drawings provided by its own party shall keep at the construction site notifications of award means the written notice party formally grants the construction contract to party management of equipments and materials in worksite supplementary drawings and instructions when replacing those personnels party shall fully respect the opinion of party this contract in the contract agreement signed by both parties legal representatives persons in charge or their authorized representatives requirements on construction duration earthing engineering raw materials are provided by urec transportation site material stack camps are»\n",
      "\n",
      "SIMILAR/DISSIMILAR DOCS PER MODEL Doc2Vec(dm/s,d50,hs,w8,mc2):\n",
      "\n",
      "MOST (0, 0.9896143078804016): «party needs more copies if there is necessary need of construction it shall get the approval of the owner party expenses shall be borne to party notification of defects commercial operation period warranty period engineering units means the component of the individual works can construct independently headings and marginal notes of each clause only for the convenience of reading shall not be as part of clause this contract document is written and explained in chinese the laws and regulations of the people republic of china and the laws and regulations of myanmar shall apply this contract document the contract price is rmb upper case contract no the above drawings provided to party or drawings provided by its own party shall keep at the construction site notifications of award means the written notice party formally grants the construction contract to party management of equipments and materials in worksite supplementary drawings and instructions when replacing those personnels party shall fully respect the opinion of party this contract in the contract agreement signed by both parties legal representatives persons in charge or their authorized representatives requirements on construction duration earthing engineering raw materials are provided by urec transportation site material stack camps are»\n",
      "\n",
      "MEDIAN (14, 0.6294819116592407): «see technical description the lessor shall undertake the lessor leasee and others included all losses caused by safety accidents resulted from violation operation or misoperation of lessor machine operator this mechanism could be modified by further discussion by both parties tech zone urumqi xinjiang china we are honored to accept your entrustment to make preparations and arrangements for the reception work of your company boarding meeting in this year jsa team is to identify the hazards and its influence of key process in implementing the work task and to fill the jsa form see appendixes product use and maintenance instructions including maintenance parameters employee are deemed to have completed jsa process with more than points per item the interface will be described in detail in interface contents in column the long stay visa will be converted into residence permit upon arrival in after medical exam at the migration office learn anywhere anytime with our most comprehensive elearning package ever documents required others the location of locally installed instrument submitted alt certificate from reputable independent party as proof main power supply shall be clearly marked anchor bolt downtown investment lp and each deduction shall be made at the rate of of»\n",
      "\n",
      "LEAST (19, 0.6127181053161621): «only because that the buyer want to return goods and the seller has no fault the seller shall immediately stop the production after receiving notice at the same time the seller shall manage to reduce the resulting losses and provide relative documentary evidence for costs incurred compensation fees shall be settled through negotiation by both parties for those can clear in advance or with disagreement they shall be determined by the buyer and the seller through negotiation subcontract and outsourcing contract location of manufacturer this letter of commitment is in triplicate party and its subordinate project department shall save copy each and party keep one copy inspectors will refer to the itp and applicable standards to execute the workshop inspection witness according to the specific scope of work and plan cleared before quotation sheet whether supervising representative requires and knows or not the seller has the obligation to provide initiatively the quality defect and problem in the manufacturing process of equipment in this contract in time and shall not conceal it shall be dealt with through negotiation between both parties he shall be responsible for accounting construction cost of each subdivisional work of the project each subcontract shall include the»\n",
      "\n"
     ]
    }
   ],
   "source": [
    "#find out the similarity about a specific file\n",
    "inferred_vector = model.infer_vector(train_corpus[0].words)\n",
    "sims = model.docvecs.most_similar([inferred_vector], topn=len(model.docvecs))\n",
    "print('Document ({}): «{}»\\n'.format(1, ' '.join(train_corpus[0].words[:200])))\n",
    "print(u'SIMILAR/DISSIMILAR DOCS PER MODEL %s:\\n' % model)\n",
    "for label, index in [('MOST', 0), ('MEDIAN', 1), ('LEAST', 2)]:\n",
    "    print(u'%s %s: «%s»\\n' % (label, sims[index], ' '.join(train_corpus[sims[index][0]].words[:200])))\n"
   ]
  },
  {
   "cell_type": "markdown",
   "metadata": {},
   "source": [
    "## Try kmeans with test data file"
   ]
  },
  {
   "cell_type": "code",
   "execution_count": 5,
   "metadata": {
    "collapsed": true
   },
   "outputs": [],
   "source": [
    "from __future__ import print_function\n",
    "\n",
    "from sklearn.datasets import fetch_20newsgroups\n",
    "from sklearn.decomposition import TruncatedSVD\n",
    "from sklearn.feature_extraction.text import TfidfVectorizer\n",
    "from sklearn.feature_extraction.text import HashingVectorizer\n",
    "from sklearn.feature_extraction.text import TfidfTransformer\n",
    "from sklearn.pipeline import make_pipeline\n",
    "from sklearn.preprocessing import Normalizer\n",
    "from sklearn import metrics\n",
    "\n",
    "from sklearn.cluster import KMeans, MiniBatchKMeans\n",
    "\n",
    "import logging\n",
    "from optparse import OptionParser\n",
    "import sys\n",
    "from time import time\n",
    "\n",
    "import numpy as np"
   ]
  },
  {
   "cell_type": "code",
   "execution_count": 19,
   "metadata": {
    "collapsed": false
   },
   "outputs": [
    {
     "data": {
      "text/plain": [
       "33"
      ]
     },
     "execution_count": 19,
     "metadata": {},
     "output_type": "execute_result"
    }
   ],
   "source": [
    "path_test=\"/home/work/langData/en_zh-cn/electronic/\"\n",
    "test_file = [f for f in get_name(get_dir(path_test)) if f.split(\".\")[1] == \"en\"]\n",
    "#for fil in test_file:\n",
    "   # print fil.decode('utf-8')\n",
    "def read(test_file):\n",
    "    corpus = []\n",
    "    for t in test_file:\n",
    "        line = \"\"\n",
    "        with smart_open.smart_open(t, encoding=\"utf-8\") as f:\n",
    "            for l in f:\n",
    "                if len(l.strip())>0:\n",
    "                    line += l.strip()\n",
    "        corpus.append(line)\n",
    "    return corpus\n",
    "\n",
    "test_corpus = read(test_file)\n",
    "len(test_corpus)"
   ]
  },
  {
   "cell_type": "code",
   "execution_count": 7,
   "metadata": {
    "collapsed": false
   },
   "outputs": [
    {
     "name": "stdout",
     "output_type": "stream",
     "text": [
      "Initialization complete\n",
      "Iteration  0, inertia 47.100\n",
      "Iteration  1, inertia 25.100\n",
      "Converged at iteration 1: center shift 0.000000e+00 within tolerance 3.432620e-10\n",
      "Initialization complete\n",
      "Iteration  0, inertia 45.461\n",
      "Iteration  1, inertia 25.213\n",
      "Converged at iteration 1: center shift 0.000000e+00 within tolerance 3.432620e-10\n",
      "Initialization complete\n",
      "Iteration  0, inertia 43.878\n",
      "Iteration  1, inertia 24.512\n",
      "Converged at iteration 1: center shift 0.000000e+00 within tolerance 3.432620e-10\n",
      "Initialization complete\n",
      "Iteration  0, inertia 43.465\n",
      "Iteration  1, inertia 24.599\n",
      "Converged at iteration 1: center shift 0.000000e+00 within tolerance 3.432620e-10\n",
      "Initialization complete\n",
      "Iteration  0, inertia 40.895\n",
      "Iteration  1, inertia 25.084\n",
      "Converged at iteration 1: center shift 0.000000e+00 within tolerance 3.432620e-10\n",
      "Initialization complete\n",
      "Iteration  0, inertia 42.293\n",
      "Iteration  1, inertia 25.173\n",
      "Converged at iteration 1: center shift 0.000000e+00 within tolerance 3.432620e-10\n",
      "Initialization complete\n",
      "Iteration  0, inertia 41.880\n",
      "Iteration  1, inertia 25.242\n",
      "Converged at iteration 1: center shift 0.000000e+00 within tolerance 3.432620e-10\n",
      "Initialization complete\n",
      "Iteration  0, inertia 43.848\n",
      "Iteration  1, inertia 25.054\n",
      "Converged at iteration 1: center shift 0.000000e+00 within tolerance 3.432620e-10\n",
      "Initialization complete\n",
      "Iteration  0, inertia 42.258\n",
      "Iteration  1, inertia 24.975\n",
      "Converged at iteration 1: center shift 0.000000e+00 within tolerance 3.432620e-10\n",
      "Initialization complete\n",
      "Iteration  0, inertia 43.659\n",
      "Iteration  1, inertia 23.992\n",
      "Iteration  2, inertia 23.824\n",
      "Iteration  3, inertia 23.664\n",
      "Converged at iteration 3: center shift 0.000000e+00 within tolerance 3.432620e-10\n"
     ]
    }
   ],
   "source": [
    "vectorizer=TfidfVectorizer(min_df=1, max_df=0.9, stop_words='english', decode_error='ignore')\n",
    "vectorized=vectorizer.fit_transform(test_corpus)\n",
    "\n",
    "km=KMeans(n_clusters=4, init='k-means++',n_init=10, verbose=1)\n",
    "km.fit(vectorized)\n",
    "pred = km.predict(vectorized)\n",
    "\n"
   ]
  },
  {
   "cell_type": "code",
   "execution_count": 8,
   "metadata": {
    "collapsed": false
   },
   "outputs": [
    {
     "data": {
      "text/plain": [
       "(33, 253205)"
      ]
     },
     "execution_count": 8,
     "metadata": {},
     "output_type": "execute_result"
    }
   ],
   "source": [
    "vectorized.shape"
   ]
  },
  {
   "cell_type": "code",
   "execution_count": 9,
   "metadata": {
    "collapsed": false
   },
   "outputs": [
    {
     "data": {
      "text/plain": [
       "array([0, 1, 3, 3, 3, 3, 1, 3, 3, 0, 3, 2, 1, 3, 0, 3, 1, 3, 1, 0, 3, 1, 2,\n",
       "       3, 3, 1, 1, 3, 1, 1, 3, 1, 1], dtype=int32)"
      ]
     },
     "execution_count": 9,
     "metadata": {},
     "output_type": "execute_result"
    }
   ],
   "source": [
    "pred"
   ]
  },
  {
   "cell_type": "code",
   "execution_count": 35,
   "metadata": {
    "collapsed": false
   },
   "outputs": [
    {
     "name": "stdout",
     "output_type": "stream",
     "text": [
      "Party B needs more copies if there is a necessary need of construction, it shall get the approval of the owner/ Party A, expenses shall be borne to Party B.\n",
      "Notification of defects (commercial operation period/ warranty period):\n",
      "“Engineering Units” means the component of the individual works, can construct independently.\n",
      "Headings and marginal notes of each clause only for the convenience of reading, shall not be as a part of clause.\n",
      "This contract document is written and explained in Chinese, the laws and regulations of the People's Republic of China and the laws and regulations of Myanmar shall apply this contract document.\n",
      "The contract price is RMB(upper case):\n",
      "Contract No.:\n",
      "The above drawings provided to Party B or drawings provided by its own, Party B shall keep at the construction site.\n",
      "“Notifications of Award” means the written notice Party A formally grants the construction contract to Party B.\n",
      "/ /2016\n",
      "Management of Equipments and Materials in a Worksite\n",
      "Supplementary Dra \n",
      "\n",
      "None\n",
      "Bearing seat four hole type of hammer crusher shall be split cast, machined in all, grease lubricated.\n",
      "Specific protection\n",
      "shall be effected maintained by the Contract as insuring Party,\n",
      "Water sealing\n",
      "Use of patent technology of NHI., namely hydraulic-mechanical compound synchronization mechanism of single layer hot press patent No. 200610047076.5, stable free upward downward movement of large breadth ptable beam is ensured.\n",
      "Rot speed shall be carefully selected to achieve the designed fineness of the coal blend with generation of fines within specified limits.\n",
      "Contract Agreement\n",
      "Shaft\n",
      "Broadcasting一样\n",
      "Folio 2.12\n",
      "Travel mot：\n",
      "Temperature:350℃ Mot YKK630-8\n",
      "Geodetic surveying wk including transferring & fixing of reference lines & bench marks\n",
      "Except as stated in Sub-Clause 20.7 [Failure to Comply with Dispute Adjudication Boards Decision] Sub-Clause 20.8 [Expiry of Dispute Adjudication Boards Appointment], neither Party shall be entitled to commence arbitration of a dispute unless a \n",
      "\n",
      "None\n",
      "See technical description.\n",
      "The Lessor shall undertake (the Lessor, Leasee and others included) all losses caused by safety accidents resulted from violation operation or misoperation of Lessor's machine operator.\n",
      "This mechanism could be modified by further discussion by both Parties.\n",
      "Tech Zone, 830011, Urumqi, Xinjiang, China\n",
      "We are honored to accept your entrustment to make preparations and arrangements for the reception work of your company’s boarding meeting in this year.\n",
      "(3) JSA team is to identify the hazards and its influence of key process in implementing the work task and to fill the JSA form (see Appendixes).\n",
      "Product Use and Maintenance Instructions (including maintenance parameters)\n",
      "Employee are deemed to have completed JSA process with more than 3 points per item.\n",
      "The interface will be described in detail in \"Interface Contents\" in column 8.\n",
      "The long stay visa will be converted into residence permit upon arrival in after medical exam at the Migration Office.\n",
      "Learn anywhere \n",
      "\n",
      "None\n",
      "Only because that the buyer want to return goods and the seller has no fault, the seller shall immediately stop the production after receiving notice. At the same time, the seller shall manage to reduce the resulting losses and provide relative documentary evidence for costs incurred. Compensation fees shall be settled through negotiation by both parties.\n",
      "For those can't clear in advance or with disagreement, they shall be determined by the buyer and the seller through negotiation.\n",
      "Subcontract and outsourcing contract;\n",
      "Location of Manufacturer\n",
      "This letter of commitment is in triplicate, party A and its subordinate project department shall save a copy each, and party B keep one copy.\n",
      "Inspectors will refer to the ITP and applicable standards to execute the workshop inspection witness according to the specific scope of work and plan cleared before.\n",
      "2. Quotation Sheet\n",
      "Whether supervising representative requires and knows or not, the Seller has the obligation to provide initiatively the qua \n",
      "\n",
      "None\n"
     ]
    }
   ],
   "source": [
    "ca = []\n",
    "cb = []\n",
    "cc = []\n",
    "cd = []\n",
    "for p in range(len(pred)-1):\n",
    "    if pred[p]==0:\n",
    "        ca.append(p)\n",
    "    elif pred[p]==1:\n",
    "        cb.append(p)\n",
    "    elif pred[p]==2:\n",
    "        cc.append(p)\n",
    "    else:\n",
    "        cd.append(p)\n",
    "def content(fl):\n",
    "    with open(fl) as inp:\n",
    "        print (inp.read()[:1000],\"\\n\")\n",
    "    \n",
    "for c in ca:\n",
    "    print (content(test_file[c].decode('utf-8')))\n",
    "    \n"
   ]
  },
  {
   "cell_type": "code",
   "execution_count": null,
   "metadata": {
    "collapsed": false
   },
   "outputs": [],
   "source": []
  }
 ],
 "metadata": {
  "kernelspec": {
   "display_name": "Python 2",
   "language": "python",
   "name": "python2"
  },
  "language_info": {
   "codemirror_mode": {
    "name": "ipython",
    "version": 2
   },
   "file_extension": ".py",
   "mimetype": "text/x-python",
   "name": "python",
   "nbconvert_exporter": "python",
   "pygments_lexer": "ipython2",
   "version": "2.7.6"
  }
 },
 "nbformat": 4,
 "nbformat_minor": 0
}
