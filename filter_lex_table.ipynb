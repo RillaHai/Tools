{
 "cells": [
  {
   "cell_type": "markdown",
   "metadata": {},
   "source": [
    "# code for filter lexical tables"
   ]
  },
  {
   "cell_type": "code",
   "execution_count": 44,
   "metadata": {
    "collapsed": false
   },
   "outputs": [],
   "source": [
    "f = \"/home/work/vehicle/model/lex.1.f2e\"\n",
    "new = \"/home/work/vehicle/model/lex.ft.f2e\"\n",
    "writer = open(new,\"w\")\n",
    "#reader = open(\"/home/work/vehicle/model/lex.1.f2e\",\"r\")\n",
    "with open(new,\"w\") as writer:\n",
    "    with open(f) as infile:\n",
    "        for line in infile:\n",
    "            if line != \"\":\n",
    "                fl = line.strip().split(\" \")\n",
    "                #print fl\n",
    "                if float(fl[2]) >0.5:\n",
    "                    writer.write(\" \".join(fl)+\"\\n\")\n",
    "\n",
    "                "
   ]
  },
  {
   "cell_type": "code",
   "execution_count": null,
   "metadata": {
    "collapsed": true
   },
   "outputs": [],
   "source": []
  },
  {
   "cell_type": "code",
   "execution_count": null,
   "metadata": {
    "collapsed": true
   },
   "outputs": [],
   "source": []
  }
 ],
 "metadata": {
  "kernelspec": {
   "display_name": "Python 2",
   "language": "python",
   "name": "python2"
  },
  "language_info": {
   "codemirror_mode": {
    "name": "ipython",
    "version": 2
   },
   "file_extension": ".py",
   "mimetype": "text/x-python",
   "name": "python",
   "nbconvert_exporter": "python",
   "pygments_lexer": "ipython2",
   "version": "2.7.6"
  }
 },
 "nbformat": 4,
 "nbformat_minor": 0
}
