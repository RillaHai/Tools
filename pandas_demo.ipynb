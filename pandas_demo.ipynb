{
 "cells": [
  {
   "cell_type": "code",
   "execution_count": null,
   "metadata": {
    "collapsed": true
   },
   "outputs": [],
   "source": [
    "## Tutorial of pandas,numpy and matplot\n",
    "# summary of sample code\n"
   ]
  },
  {
   "cell_type": "code",
   "execution_count": 3,
   "metadata": {
    "collapsed": true
   },
   "outputs": [],
   "source": [
    "import tensorflow as tf"
   ]
  },
  {
   "cell_type": "code",
   "execution_count": null,
   "metadata": {
    "collapsed": true
   },
   "outputs": [],
   "source": [
    "#pandas\n",
    "#build dataframe\n",
    "medal = {'country':Series(country),'gold',Series(gold),'silver':Series(silver),'bronze':Series(bronze)}\n",
    "medaldf = DataFrame(medal)\n",
    "#condition\n",
    "bronze_atleast_one_gold = medaldf[['bronze']][medaldf[['gold']]>=1] #medaldf['bronze?'] return boolean\n",
    "average_bronze = numpy.mean(bronze_atleast_one_gold)\n",
    "avg_medal_count = medaldf[['gold','silver','bronze']].apply(numpy.mean)\n",
    "#\n",
    "medalcounts = medaldf[['gold','silver','bronze']]\n",
    "points = numpy.dot(medalcount,[4,2,1])\n",
    "olympicpoints = {'country':Series(country),'points':Series(points)}\n",
    "plympic_point_df = DataFrame(olympicpoints)\n",
    "#add new column\n",
    "dataframe['namefull'] = dataframe['nameFirst'] + \" \" + dataframe['nameLast']\n"
   ]
  },
  {
   "cell_type": "code",
   "execution_count": 19,
   "metadata": {
    "collapsed": false
   },
   "outputs": [
    {
     "name": "stdout",
     "output_type": "stream",
     "text": [
      "array\n",
      "[[ 0  1  2  3  4]\n",
      " [ 5  6  7  8  9]\n",
      " [10 11 12 13 14]]\n"
     ]
    }
   ],
   "source": [
    "import numpy as np\n",
    "a = np.arange(15).reshape(3,5)c\n",
    "print \"array\\n\",a"
   ]
  },
  {
   "cell_type": "code",
   "execution_count": 20,
   "metadata": {
    "collapsed": false
   },
   "outputs": [
    {
     "name": "stdout",
     "output_type": "stream",
     "text": [
      "dimensions of the array\n",
      "(3, 5)\n"
     ]
    }
   ],
   "source": [
    "print \"dimensions of the array\\n\",a.shape"
   ]
  },
  {
   "cell_type": "code",
   "execution_count": 21,
   "metadata": {
    "collapsed": false
   },
   "outputs": [
    {
     "name": "stdout",
     "output_type": "stream",
     "text": [
      "number od axes\n",
      "2\n"
     ]
    }
   ],
   "source": [
    "print \"number of axes\\n\",a.ndim"
   ]
  },
  {
   "cell_type": "code",
   "execution_count": 22,
   "metadata": {
    "collapsed": false
   },
   "outputs": [
    {
     "name": "stdout",
     "output_type": "stream",
     "text": [
      "type of the elements\n",
      "int64\n"
     ]
    }
   ],
   "source": [
    "print \"type of the elements\\n\",a.dtype.name"
   ]
  },
  {
   "cell_type": "code",
   "execution_count": 23,
   "metadata": {
    "collapsed": false
   },
   "outputs": [
    {
     "name": "stdout",
     "output_type": "stream",
     "text": [
      "total number of elements of the array\n",
      "15\n"
     ]
    }
   ],
   "source": [
    "print \"total number of elements of the array\\n\",a.size"
   ]
  },
  {
   "cell_type": "code",
   "execution_count": 24,
   "metadata": {
    "collapsed": false
   },
   "outputs": [
    {
     "name": "stdout",
     "output_type": "stream",
     "text": [
      "empty array\n",
      "[[[  6.89985600e-310   1.69877476e-316]]\n",
      "\n",
      " [[  6.89985480e-310   6.89985480e-310]]\n",
      "\n",
      " [[  6.89985480e-310   6.89985480e-310]]\n",
      "\n",
      " [[  6.89985480e-310   6.89985480e-310]]\n",
      "\n",
      " [[  6.89985480e-310   6.89985480e-310]]]\n"
     ]
    }
   ],
   "source": [
    "print \"empty array\\n\",np.empty((5,1,2))"
   ]
  },
  {
   "cell_type": "code",
   "execution_count": 25,
   "metadata": {
    "collapsed": false
   },
   "outputs": [
    {
     "name": "stdout",
     "output_type": "stream",
     "text": [
      "array ones\n",
      "[[1]\n",
      " [1]\n",
      " [1]\n",
      " [1]\n",
      " [1]]\n"
     ]
    }
   ],
   "source": [
    "print \"array ones\\n\",np.ones((5,1),dtype=np.int_)"
   ]
  },
  {
   "cell_type": "code",
   "execution_count": 26,
   "metadata": {
    "collapsed": false
   },
   "outputs": [
    {
     "name": "stdout",
     "output_type": "stream",
     "text": [
      "Generate an array full of random numbers,uniformly sampled from [0.0,1.0)\n",
      "[[ 0.96369275  0.74521233  0.0836822   0.43473691]\n",
      " [ 0.84637977  0.27171048  0.1829361   0.41892142]\n",
      " [ 0.23198814  0.0062012   0.35417282  0.7703016 ]\n",
      " [ 0.54357309  0.13028107  0.73810125  0.01115947]\n",
      " [ 0.00943161  0.02138242  0.07721809  0.09815131]]\n"
     ]
    }
   ],
   "source": [
    "print \"Generate an array full of random numbers,uniformly sampled from [0.0,1.0)\\n\",np.random.random((5,4))#equals np.random.rand(5,4)"
   ]
  },
  {
   "cell_type": "code",
   "execution_count": 27,
   "metadata": {
    "collapsed": false
   },
   "outputs": [
    {
     "name": "stdout",
     "output_type": "stream",
     "text": [
      "Sample numbers from a Gaussian distribution\n",
      "[[ 54.51750423  47.09931569  42.41535507]\n",
      " [ 52.42396013  46.30554842  58.13486003]]\n"
     ]
    }
   ],
   "source": [
    "print \"Sample numbers from a Gaussian distribution\\n\",np.random.normal(50,10,size=(2,3)) #default (mean = 0,s.d. = 1)"
   ]
  },
  {
   "cell_type": "code",
   "execution_count": 34,
   "metadata": {
    "collapsed": false
   },
   "outputs": [
    {
     "name": "stdout",
     "output_type": "stream",
     "text": [
      "Random integers \n",
      "[[2 0 5]\n",
      " [1 1 3]]\n"
     ]
    }
   ],
   "source": [
    "np.random.seed(693) #seed the random number geberator to get same sequence of numbers every time\n",
    "print \"Random integers \\n\",np.random.randint(0,10,size=(2,3))"
   ]
  },
  {
   "cell_type": "code",
   "execution_count": 37,
   "metadata": {
    "collapsed": false
   },
   "outputs": [
    {
     "name": "stdout",
     "output_type": "stream",
     "text": [
      "Sum of each column:\n",
      "[15 18 21 24 27]\n",
      "Sum of each row:\n",
      "[10 35 60]\n"
     ]
    }
   ],
   "source": [
    "#iterate over rows to compute sum of each column\n",
    "print \"Sum of each column:\\n\",a.sum(axis=0) #similar operations are min,max,mean\n",
    "#iterate over columnds to computer sum of each row\n",
    "print \"Sum of each row:\\n\",a.sum(axis=1)"
   ]
  },
  {
   "cell_type": "code",
   "execution_count": 42,
   "metadata": {
    "collapsed": false
   },
   "outputs": [
    {
     "name": "stdout",
     "output_type": "stream",
     "text": [
      "[9 1 9 3]\n",
      "the index of the maximum value in an array:\n",
      "0\n"
     ]
    }
   ],
   "source": [
    "new = np.random.randint(0,10,size=4)\n",
    "print new\n",
    "print \"the index of the maximum value in an array:\\n\",new.argmax() #argmin"
   ]
  },
  {
   "cell_type": "code",
   "execution_count": 62,
   "metadata": {
    "collapsed": false
   },
   "outputs": [
    {
     "name": "stdout",
     "output_type": "stream",
     "text": [
      "[[ 0  1  2  3  4]\n",
      " [ 5  6  7  8  9]\n",
      " [10 11 12 13 14]]\n",
      "Selecting columns 0,2 for every row:\n",
      "[[ 0  2]\n",
      " [ 5  7]\n",
      " [10 12]]\n"
     ]
    }
   ],
   "source": [
    "print a\n",
    "print \"Selecting columns 0,2 for every row:\\n\",a[:,0:3:2]"
   ]
  },
  {
   "cell_type": "code",
   "execution_count": 69,
   "metadata": {
    "collapsed": false
   },
   "outputs": [
    {
     "name": "stdout",
     "output_type": "stream",
     "text": [
      "[ 0.2732834   0.56136226  0.80309824  0.02816901  0.34656847]\n",
      "[ 0.56136226  0.56136226  0.80309824  0.02816901]\n"
     ]
    }
   ],
   "source": [
    "#accessing using list of indices\n",
    "b = np.random.rand(5)\n",
    "print b\n",
    "indices = np.array([1,1,2,3])\n",
    "print b[indices]"
   ]
  },
  {
   "cell_type": "code",
   "execution_count": 74,
   "metadata": {
    "collapsed": false,
    "scrolled": true
   },
   "outputs": [
    {
     "name": "stdout",
     "output_type": "stream",
     "text": [
      "[[20 25 10 23 26 32 10  5  0]\n",
      " [ 0  2 50 20  0  1 28  5  0]]\n",
      "14.2777777778\n",
      "[10 10  5  0  0  2  0  1  5  0]\n"
     ]
    }
   ],
   "source": [
    "#masking\n",
    "newa = np.array([(20,25,10,23,26,32,10,5,0),(0,2,50,20,0,1,28,5,0)])\n",
    "print newa \n",
    "#caculating mean\n",
    "mean = newa.mean()\n",
    "print mean\n",
    "#masking\n",
    "print newa[newa<mean]"
   ]
  },
  {
   "cell_type": "code",
   "execution_count": 77,
   "metadata": {
    "collapsed": false
   },
   "outputs": [
    {
     "name": "stdout",
     "output_type": "stream",
     "text": [
      "multiply:\n",
      "[[ 0  2  4  6  8]\n",
      " [10 12 14 16 18]\n",
      " [20 22 24 26 28]]\n",
      "\n",
      "Division:\n",
      "[[ 0.   0.5  1.   1.5  2. ]\n",
      " [ 2.5  3.   3.5  4.   4.5]\n",
      " [ 5.   5.5  6.   6.5  7. ]]\n",
      "adding/n [[  0.2732834    1.56136226   2.80309824   3.02816901   4.34656847]\n",
      " [  5.2732834    6.56136226   7.80309824   8.02816901   9.34656847]\n",
      " [ 10.2732834   11.56136226  12.80309824  13.02816901  14.34656847]]\n"
     ]
    }
   ],
   "source": [
    "print \"multiply:\\n\",a*2\n",
    "print \"\\nDivision:\\n\",a/2.0\n",
    "print \"adding\\n\",a+b"
   ]
  },
  {
   "cell_type": "code",
   "execution_count": null,
   "metadata": {
    "collapsed": true
   },
   "outputs": [],
   "source": [
    "import pandas as pd\n",
    "import matplotlib.pyplot as plt\n",
    "\n",
    "#get the maximum value of a column in pandas\n",
    "def get_max_column(symbol):\n",
    "    df = pd.read_csv(\"data/{}\".csv.format(symbol))\n",
    "    return df['Close'].max()  #df['name'].mean()\n",
    "\n",
    "#slice date\n",
    "def set_date():\n",
    "    #define date range\n",
    "    start_date='2010-01-22'\n",
    "    end_date='2010-01-26'\n",
    "    dates=pd.date_range(start_date,end_date)\n",
    "    print dates[0]\n",
    "    \n",
    "    #create am empty dataframe\n",
    "    df1=pd.DataFrame(index=dates) #use dates as index otherwise integer\n",
    "    \n",
    "    #Read SPY data into temporary dataframe\n",
    "    dfSPY = pd.read_csv(\"data/SPY.csv\",index_col=\"Date\"),parse_dates=True,usecols=['Date','Adj Close'],na_values=['nan'])\n",
    "    dfSPY['high','close'].plot() #plot columns\n",
    "    plt.show()\n",
    "    \n",
    "    #join dataframe\n",
    "    df1=df1.join(dfSPY,how='inner') #can also drop nan value\n",
    "    df1=df1.dropna() #drop rows having nan value\n",
    "    \n",
    "    #Rename column\n",
    "    dfSPY = df.SPY.rename(columns={'Adj Close':'SPY'})\n",
    "    #Read in more stocks\n",
    "    symbols = ['GOOG','IBM','GLD']\n",
    "    for symbol in symbols:\n",
    "        df_temp=pd.read,csv(\"data/{}.csv\".format(symbol),index_col='Date',parse_dates=True,usecols=['Date','Adj Close'],na_value=['nan'])\n",
    "        df_temp=df_temp.rename(columns={'Adj Close':symbol})\n",
    "        df1=df1.join(df_temp)\n",
    "        df = df1.dropna(subset=[\"SPY\"])\n",
    "    #row slicing\n",
    "    print df.ix['2010-01-01','2010-01-31']\n",
    "    #column slicing\n",
    "    print df['GOOG']\n",
    "    print df[['IBM','GLD']]\n",
    "    #slice by row and columnc\n",
    "    print df.ix['2010-03-10':'2010-03-15',['SPY','IBM']]\n",
    "\n",
    "def plot_data(df,title=\"Stock prices\"):\n",
    "    ax = df.plot(title=title)\n",
    "    ax.set_xlabel(\"Date\")\n",
    "    ax.set_ylabel(\"Price\")\n",
    "    plt.show()\n",
    "\n",
    "def plot_selected(df,columns,start_index,end_index):\n",
    "    plot_data(df.ix[start_index:end_index,columns,title=\"Selected data\"]\n",
    "\n",
    "def normalize_data(df):\n",
    "    return df/df.ix[0,:]\n",
    "              \n",
    "symbols = ['SPY','GOOG','IBM','GLD']\n",
    "def get_data(symbols, dates):\n",
    "    \"\"\"Read stock data (adjusted close) for given symbols from CSV files.\"\"\"\n",
    "    df = pd.DataFrame(index=dates)\n",
    "    if 'SPY' not in symbols:  # add SPY for reference, if absent\n",
    "        symbols.insert(0, 'SPY')\n",
    "\n",
    "    for symbol in symbols:\n",
    "        df_temp = pd.read_csv(symbol_to_path(symbol), index_col='Date',\n",
    "                parse_dates=True, usecols=['Date', 'Adj Close'], na_values=['nan'])\n",
    "        df_temp = df_temp.rename(columns={'Adj Close': symbol})\n",
    "        df = df.join(df_temp)\n",
    "        if symbol == 'SPY':  # drop dates SPY did not trade\n",
    "            df = df.dropna(subset=[\"SPY\"])\n",
    "\n",
    "    return df    "
   ]
  },
  {
   "cell_type": "code",
   "execution_count": null,
   "metadata": {
    "collapsed": true
   },
   "outputs": [],
   "source": [
    "stat = df1.mean() #median,std,sum,prod,mode\n",
    "dates = pd.date_range('2012-01-01','2012-12-31')\n",
    "symbols = ['SPY']\n",
    "df = get_data(symbols,dates)\n",
    "#PLOT SPY DATA retain matplotlib axis object\n",
    "ax = df['SPY'].plot(title=\"SPY rolling mean\",label='SPY')\n",
    "#compute rolling mean using a 20-day window\n",
    "rm_SPY = pd.rolling.mean(df['SPY'],window=20)\n",
    "#add rolling mean to same plot\n",
    "rm_SPY.plot(label=\"Rolling mean\",ax=ax)\n",
    "def get_rolling_mean(values,window):\n",
    "    return pd.rolling_mean(values,window=window)\n",
    "def get_rolling_std(values,window):\n",
    "    return pd.rolling_std(values,window=window)\n",
    "def get_bollinger_bands(rm,rstd):\n",
    "    upper_band = rm + rstd*2\n",
    "    lower_band = rm - rstd*2\n",
    "    return upper_band,lower_band\n",
    "def compute_daily_returns(df):\n",
    "    daily_returns = (df/df.shift(1))-1\n",
    "    daily_returns.ix[0,:]=0 #leaves the 0th row full of NANs\n",
    "    return daily_returns\n",
    "def fill_missing_values(df_data):\n",
    "    df_data.fillna(method=\"ffill\".inplace=\"TRUE\")\n",
    "    df_data.fillna(method=\"bfill\".inplace=\"TRUE\")"
   ]
  },
  {
   "cell_type": "code",
   "execution_count": null,
   "metadata": {
    "collapsed": true
   },
   "outputs": [],
   "source": [
    "#plot histogram\n",
    "daily_returns.hist(bins=20) #change no. of bins to 20\n",
    "#get mean and standard deviation\n",
    "mean = daily_returns['SPY'].mean()\n",
    "std = daily_returns['SPY'].std()\n",
    "\n",
    "plt.axvline(mean,color='w',linestyle='dashed',linewidth=2)\n",
    "plt.axvline(std,color='r',linestyle=\"dashed\",linewidth=2)\n",
    "plt.axvline(-std,color='r',linestyle=\"dashed\",linewidth=2)\n",
    "plt.show()\n",
    "\n",
    "#plot two histogram together\n",
    "dates = pd.date_range('2009-01-01','2012-12-31')\n",
    "symbols = ['SPY','XOM']\n",
    "df = get_data(symbols,dates)\n",
    "daily_returns = compute_daily_returns(df)\n",
    "daily_returns['SPY'].hist(bins=20,label=\"SPY\")\n",
    "daily_returns['XOM'].hist(bins=20,label=\"XOM\")\n",
    "plt.legend(loc='upper right')\n",
    "plt.show()\n",
    "\n",
    "#scatterplot\n",
    "daily_return.plot(kind='scatter',x='SPY',y='XOM')\n",
    "beta_XOM,alpha_XOM=np.polyfit(daily_returns['SPY'],daily_returns['XOM'],1) #polynpmial order 1\n",
    "plt.plot(daily_returns['SPY'],beta_XOM*daily_returns['SPY']+alpha_XOM,'-',color='r')\n",
    "plt.show()\n",
    "\n",
    "daily_return.plot(kind='scatter',x='SPY',y='GLD')\n",
    "plt.show()\n"
   ]
  }
 ],
 "metadata": {
  "kernelspec": {
   "display_name": "Python 2",
   "language": "python",
   "name": "python2"
  },
  "language_info": {
   "codemirror_mode": {
    "name": "ipython",
    "version": 2
   },
   "file_extension": ".py",
   "mimetype": "text/x-python",
   "name": "python",
   "nbconvert_exporter": "python",
   "pygments_lexer": "ipython2",
   "version": "2.7.6"
  }
 },
 "nbformat": 4,
 "nbformat_minor": 0
}
