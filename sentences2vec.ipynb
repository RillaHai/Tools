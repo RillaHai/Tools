{
 "cells": [
  {
   "cell_type": "code",
   "execution_count": 2,
   "metadata": {
    "collapsed": true
   },
   "outputs": [],
   "source": [
    "import logging\n",
    "logging.basicConfig(format='%(asctime)s : %(levelname)s : %(message)s', level=logging.INFO)"
   ]
  },
  {
   "cell_type": "code",
   "execution_count": 3,
   "metadata": {
    "collapsed": false
   },
   "outputs": [
    {
     "name": "stderr",
     "output_type": "stream",
     "text": [
      "/usr/local/lib/python2.7/dist-packages/gensim-0.13.3-py2.7-linux-x86_64.egg/gensim/utils.py:1015: UserWarning: Pattern library is not installed, lemmatization won't be available.\n",
      "  warnings.warn(\"Pattern library is not installed, lemmatization won't be available.\")\n"
     ]
    }
   ],
   "source": [
    "from gensim import corpora,models, similarities\n",
    "import nltk\n",
    "import codecs\n",
    "from nltk.corpus import stopwords"
   ]
  },
  {
   "cell_type": "code",
   "execution_count": 4,
   "metadata": {
    "collapsed": false
   },
   "outputs": [
    {
     "name": "stdout",
     "output_type": "stream",
     "text": [
      "808\n"
     ]
    }
   ],
   "source": [
    "sentences = []\n",
    "    \n",
    "with codecs.open(\"/home/work/Data/raw.para/judicial.en.split\",encoding=\"utf8\") as inputfile:\n",
    "    for line in inputfile:\n",
    "         if line != \"\\n\":\n",
    "                sentences.append(line)\n",
    "\n",
    "# remove common words and tokenize\n",
    "stoplist = set(stopwords.words('english'))\n",
    "texts = [[word for word in sentence.strip().split(\" \") if word not in stoplist]\n",
    "         for sentence in sentences]\n",
    "\n",
    "# remove words that appear only once\n",
    "from collections import defaultdict\n",
    "frequency = defaultdict(int)\n",
    "for text in texts:\n",
    "    for token in text:\n",
    "        frequency[token] += 1\n",
    "\n",
    "texts = [[token for token in text if frequency[token] > 1] for text in texts]\n",
    "#remove empty string after filtering put low frequency words\n",
    "texts = [text for text in texts if len(text)!=0]\n",
    "print len(texts)\n",
    "from pprint import pprint  # pretty-printer\n",
    "#pprint(texts)\n"
   ]
  },
  {
   "cell_type": "code",
   "execution_count": 5,
   "metadata": {
    "collapsed": false
   },
   "outputs": [
    {
     "name": "stdout",
     "output_type": "stream",
     "text": [
      "Dictionary(849 unique tokens: [u'Arbitration', u'limited', u'Maizidian', u'caused', u'(5)']...)\n"
     ]
    }
   ],
   "source": [
    "#using training corpus to build dictionary\n",
    "dictionary = corpora.Dictionary(texts)\n",
    "# store the dictionary, for future reference\n",
    "dictionary.save('/home/work/test.dict') \n",
    "print(dictionary)"
   ]
  },
  {
   "cell_type": "code",
   "execution_count": 6,
   "metadata": {
    "collapsed": false
   },
   "outputs": [],
   "source": [
    "corpus = [dictionary.doc2bow(text) for text in texts]\n",
    "corpora.MmCorpus.serialize('/home/work/test.mm', corpus)\n",
    "#print(corpus)"
   ]
  },
  {
   "cell_type": "code",
   "execution_count": 7,
   "metadata": {
    "collapsed": false
   },
   "outputs": [],
   "source": [
    "#creating tfidf transformation and initialise the model\n",
    "tfidf = models.TfidfModel(corpus) \n",
    "corpus_tfidf = tfidf[corpus]\n",
    "lsi = models.LsiModel(corpus, id2word=dictionary, num_topics=2)\n",
    "corpus_lsi = lsi[corpus_tfidf]"
   ]
  },
  {
   "cell_type": "code",
   "execution_count": 8,
   "metadata": {
    "collapsed": false
   },
   "outputs": [],
   "source": [
    "index = similarities.SparseMatrixSimilarity(corpus_tfidf, num_features=12)"
   ]
  },
  {
   "cell_type": "code",
   "execution_count": 9,
   "metadata": {
    "collapsed": false
   },
   "outputs": [],
   "source": [
    "doc = \"2) \\\"ZHANG Fan\\\" invested RMB 10,000,000 to Beijing Zhongjin Xinsheng Investment Center (limited partnership)\"\n",
    "vec_bow = dictionary.doc2bow(doc.lower().split())\n",
    "bow_tfidf = tfidf[vec_bow]\n",
    "\n",
    "#for doc in corpus_tfidf:\n",
    "#    print(doc)\n",
    "bow_lsi = lsi[bow_tfidf]\n",
    "#print(vec_lsi)\n",
    "#sims = index[tfidf[vec_bow]]\n",
    "#print(list(enumerate(sims)))"
   ]
  },
  {
   "cell_type": "code",
   "execution_count": 13,
   "metadata": {
    "collapsed": false
   },
   "outputs": [],
   "source": [
    "index = similarities.MatrixSimilarity(corpus_lsi)"
   ]
  },
  {
   "cell_type": "code",
   "execution_count": 14,
   "metadata": {
    "collapsed": false
   },
   "outputs": [
    {
     "name": "stdout",
     "output_type": "stream",
     "text": [
      "808\n",
      "[u'It', u'Financial', u'Statements', u'office', u'Accounting', u'Measures', u'Beijing', u'Law', u'Offices', u'formulated', u'Beijing', u'Justice', u'Bureau', u'Beijing', u'Finance', u'Bureau,', u'relevant', u'provisions', u'annual', u'inspection', u'lawyers,', u'financial', u'office', u'dated', u'2013', u'operation', u'2013', u'material'] 1.0\n",
      "[u'LI', u'Dan', u'(signature)', u'(hereinafter', u'referred'] 0.999999\n",
      "[u'(8)', u'Vehicle', u'maintenance', u'expenses'] 0.999994\n",
      "[u'We', u'financial', u'statements', u'Beijing', u'Zhong', u'Xin', u'Law', u'Office', u'(hereinafter', u'referred', u'including', u'Balance', u'Sheet', u'dated', u'December', u'31,', u'2013,', u'Profit', u'&', u'Profit', u'Distribution', u'Statement', u'2013,', u'well', u'Statement', u'Basic', u'Figures', u'Annual'] 0.999963\n",
      "[u'(4)', u'public', u'welfare'] 0.999953\n",
      "[u'24'] 0.999913\n",
      "[u'24'] 0.999913\n",
      "[u'Short-Term'] 0.999859\n",
      "[u'2.', u'Profit', u'&', u'Profit', u'Distribution', u'Statement'] 0.999848\n",
      "[u'Including:(1)', u'Business', u'tax'] 0.999801\n",
      "[u'Total', u'Taxable', u'Income', u'VAT'] 0.999762\n",
      "[u'Business', u'operation', u'operation', u'accounting', u'statements,', u'issuance', u'audit', u'reports;', u'verification', u'enterprise', u'capital', u'issuance', u'capital', u'verification', u'enterprise', u'issuance', u'relevant', u'reports;'] 0.999755\n",
      "[u'Office', u'Date', u'Document', u'No.'] 0.999729\n",
      "[u'Taxes', u'Surcharges'] 0.99972\n",
      "[u'4)', u'\"LIU', u'invested', u'RMB', u'7,000,000', u'Tianjin', u'Zhengfeng', u'Investment', u'Center', u'(limited', u'partnership)'] 0.999701\n",
      "[u'(5)', u'Entertainment', u'expenses'] 0.999655\n",
      "[u'II.', u'Main', u'Financial', u'2013'] 0.99961\n",
      "[u'It', u'responsibility', u'management', u'office', u'prepare', u'financial', u'statements', u'accordance', u'Accounting', u'Measures', u'Beijing', u'Law', u'Offices', u'formulated', u'Beijing', u'Justice', u'Bureau', u'Beijing', u'Finance', u'Bureau,', u'relevant', u'provisions', u'annual', u'inspection'] 0.999587\n",
      "[u'Total', u'Fixed', u'Assets'] 0.999575\n",
      "[u'Value', u'Fixed', u'Assets'] 0.999549\n",
      "[u'(6)', u'Educational', u'expenses'] 0.999501\n",
      "[u'Fixed', u'Assets'] 0.999472\n",
      "[u'Form'] 0.999455\n",
      "[u'1.', u'Name', u'Opposite', u'Party:'] 0.999384\n",
      "[u'(Room', u'112', u'China', u'National', u'Petroleum', u'&', u'Chemical', u'Planning', u'Institute)'] 0.999307\n",
      "[u'Total', u'Taxable', u'Income', u'Business', u'Tax'] 0.999306\n",
      "[u'1.', u'Party', u'A', u'provided', u'guarantee', u'RMB', u'1', u'billion', u'issued', u'Branch', u'China', u'Minsheng', u'Banking', u'Haixin', u'Iron', u'&', u'Steel', u'Group', u'Co.,', u'Ltd.', u'Shanxi', u'Haixin', u'International', u'Iron', u'&', u'Steel', u'Co.,', u'Ltd.', u'(hereinafter', u'referred', u'2013,', u'guarantee', u'responsibility', u'March', u'11,', u'China', u'Minsheng', u'Banking', u'deducted', u'RMB', u'1', u'billion', u'(hereinafter', u'referred', u'1,000,000,000'] 0.999305\n",
      "[u'\"LIU', u'invested', u'RMB', u'7,000,000', u'Tianjing', u'Zhengfeng', u'Investment', u'Center', u'(limited', u'partnership)'] 0.999305\n",
      "[u'\"LIU', u'invested', u'RMB', u'5,000,000', u'Tianjing', u'Yesheng', u'Investment', u'Center', u'(limited', u'partnership)'] 0.999304\n",
      "[u'Bank', u'China', u'Beijing', u'Branch'] 0.999289\n"
     ]
    }
   ],
   "source": [
    "sims = index[bow_lsi]\n",
    "res = sorted(enumerate(sims), key=lambda item: -item[1])\n",
    "print len(res)\n",
    "for r in res[:30]:\n",
    "    print texts[r[0]],r[1]"
   ]
  },
  {
   "cell_type": "code",
   "execution_count": null,
   "metadata": {
    "collapsed": false
   },
   "outputs": [],
   "source": [
    "\n"
   ]
  }
 ],
 "metadata": {
  "kernelspec": {
   "display_name": "Python 2",
   "language": "python",
   "name": "python2"
  },
  "language_info": {
   "codemirror_mode": {
    "name": "ipython",
    "version": 2
   },
   "file_extension": ".py",
   "mimetype": "text/x-python",
   "name": "python",
   "nbconvert_exporter": "python",
   "pygments_lexer": "ipython2",
   "version": "2.7.6"
  }
 },
 "nbformat": 4,
 "nbformat_minor": 0
}
