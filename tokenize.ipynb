{
 "cells": [
  {
   "cell_type": "code",
   "execution_count": 2,
   "metadata": {
    "collapsed": true
   },
   "outputs": [],
   "source": [
    "import re\n",
    "import nltk"
   ]
  },
  {
   "cell_type": "code",
   "execution_count": 6,
   "metadata": {
    "collapsed": false
   },
   "outputs": [
    {
     "name": "stdout",
     "output_type": "stream",
     "text": [
      "['When', 'I', \"'m\", 'a', 'Duchess', ',', 'she', 'said', 'to', 'herself', ',not', 'in', 'a', 'very', 'hopeful', 'tone', '.']\n"
     ]
    }
   ],
   "source": [
    "raw = \"When I'm a Duchess, she said to herself,not in a very hopeful tone.\"\n",
    "#split sentence into to words and punctuation\n",
    "print re.findall(r'\\w+|\\S\\w*',raw)"
   ]
  },
  {
   "cell_type": "code",
   "execution_count": 7,
   "metadata": {
    "collapsed": false,
    "scrolled": true
   },
   "outputs": [
    {
     "name": "stdout",
     "output_type": "stream",
     "text": [
      "['When', \"I'm\", 'a', 'Duchess', ',', 'she', 'said', 'to', 'herself', ',not', 'in', 'a', 'very', 'hopeful', 'tone', '.']\n"
     ]
    }
   ],
   "source": [
    "#Abbreviation not seperate\n",
    "print re.findall(r\"\\w+(?:[-']\\w+)*|'|[-.(]+|\\S\\w*\",raw)"
   ]
  },
  {
   "cell_type": "code",
   "execution_count": 10,
   "metadata": {
    "collapsed": false
   },
   "outputs": [
    {
     "name": "stdout",
     "output_type": "stream",
     "text": [
      "[('', '', ''), ('S.', '', ''), ('', '', ''), ('', '-p', ''), ('', '', ''), ('', '', ''), ('', '', '.40'), ('', '', '')]\n"
     ]
    }
   ],
   "source": [
    "text = \"That U.S.A poster-print costs $12.40...\"\n",
    "pattern = r'''(?x)\n",
    "            ([A-Z]\\.)+\n",
    "            |\\w+(-\\w)*\n",
    "            |\\$?\\d+(\\.\\d+)?%?\n",
    "            |\\.\\.\\.\n",
    "            |[][.,;\"'?():-_`]\n",
    "            '''\n",
    "print re.findall(pattern,text)"
   ]
  },
  {
   "cell_type": "code",
   "execution_count": null,
   "metadata": {
    "collapsed": true
   },
   "outputs": [],
   "source": []
  }
 ],
 "metadata": {
  "kernelspec": {
   "display_name": "Python 2",
   "language": "python",
   "name": "python2"
  },
  "language_info": {
   "codemirror_mode": {
    "name": "ipython",
    "version": 2
   },
   "file_extension": ".py",
   "mimetype": "text/x-python",
   "name": "python",
   "nbconvert_exporter": "python",
   "pygments_lexer": "ipython2",
   "version": "2.7.6"
  }
 },
 "nbformat": 4,
 "nbformat_minor": 0
}
