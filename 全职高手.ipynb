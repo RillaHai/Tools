{
 "cells": [
  {
   "cell_type": "markdown",
   "metadata": {
    "collapsed": true
   },
   "source": [
    "## Gensim Shakespear\n",
    "\n",
    "gensim implementation of word2vec"
   ]
  },
  {
   "cell_type": "code",
   "execution_count": 2,
   "metadata": {
    "collapsed": false
   },
   "outputs": [
    {
     "name": "stderr",
     "output_type": "stream",
     "text": [
      "/usr/local/lib/python2.7/dist-packages/gensim-0.13.3-py2.7-linux-x86_64.egg/gensim/utils.py:1015: UserWarning: Pattern library is not installed, lemmatization won't be available.\n",
      "  warnings.warn(\"Pattern library is not installed, lemmatization won't be available.\")\n"
     ]
    },
    {
     "data": {
      "text/plain": [
       "105849"
      ]
     },
     "execution_count": 2,
     "metadata": {},
     "output_type": "execute_result"
    }
   ],
   "source": [
    "from gensim import corpora, models, similarities\n",
    "import codecs\n",
    "document = \"/home/bear/experiments/30429.seg\"\n",
    "words = []\n",
    "with codecs.open(document) as inputfile:\n",
    "    for line in inputfile:\n",
    "        l = line.strip()\n",
    "        if len(l)>0:\n",
    "            words.append(l.split(\" \"))\n",
    "  \n",
    "len(words)\n"
   ]
  },
  {
   "cell_type": "code",
   "execution_count": 10,
   "metadata": {
    "collapsed": false
   },
   "outputs": [],
   "source": [
    "#build model\n",
    "model = models.Word2Vec(words,iter=1,window=5)\n",
    "#model.build_vocab(words)  \n",
    "#model.train(words)"
   ]
  },
  {
   "cell_type": "code",
   "execution_count": 285,
   "metadata": {
    "collapsed": false
   },
   "outputs": [
    {
     "name": "stdout",
     "output_type": "stream",
     "text": [
      "骨 0.989702522755\n",
      "长矛 0.987796783447\n",
      "半小时 0.985355496407\n",
      "便 0.985309123993\n",
      "胸前 0.984988808632\n",
      "爬 0.984939694405\n",
      "荒野 0.984835803509\n",
      "凌空 0.984765172005\n",
      "再度 0.984651088715\n",
      "硬是 0.984071671963\n"
     ]
    }
   ],
   "source": [
    "for item in model.most_similar(\"石头\"):\n",
    "    print item[0].decode('utf-8'),item[1]"
   ]
  },
  {
   "cell_type": "code",
   "execution_count": 11,
   "metadata": {
    "collapsed": false
   },
   "outputs": [
    {
     "name": "stdout",
     "output_type": "stream",
     "text": [
      "大会 0.857342481613\n",
      "跳脚 0.856702446938\n",
      "安抚 0.854083418846\n",
      "奔波 0.851648747921\n",
      "说破 0.850186347961\n"
     ]
    }
   ],
   "source": [
    "for entity in model.most_similar(positive=['数落', '脾气'], negative=['没有'], topn=5):\n",
    "    print entity[0].decode('utf-8'),entity[1]"
   ]
  },
  {
   "cell_type": "code",
   "execution_count": 266,
   "metadata": {
    "collapsed": false
   },
   "outputs": [
    {
     "data": {
      "text/plain": [
       "[('comes', 0.9991817474365234),\n",
       " ('French', 0.9991354942321777),\n",
       " ('about', 0.9990881681442261),\n",
       " ('rest', 0.9990862607955933),\n",
       " ('With', 0.9990776777267456)]"
      ]
     },
     "execution_count": 266,
     "metadata": {},
     "output_type": "execute_result"
    }
   ],
   "source": [
    "model.most_similar(positive=['boy', 'King'], negative=['woman'], topn=5)"
   ]
  },
  {
   "cell_type": "code",
   "execution_count": 218,
   "metadata": {
    "collapsed": false
   },
   "outputs": [
    {
     "data": {
      "text/plain": [
       "'breakfast'"
      ]
     },
     "execution_count": 218,
     "metadata": {},
     "output_type": "execute_result"
    }
   ],
   "source": [
    "model.doesnt_match(\"breakfast cereal dinner lunch\".split())"
   ]
  },
  {
   "cell_type": "code",
   "execution_count": 7,
   "metadata": {
    "collapsed": false
   },
   "outputs": [
    {
     "data": {
      "text/plain": [
       "0.87474125175994111"
      ]
     },
     "execution_count": 7,
     "metadata": {},
     "output_type": "execute_result"
    }
   ],
   "source": [
    "model.similarity('脾气', '数落')"
   ]
  },
  {
   "cell_type": "code",
   "execution_count": 251,
   "metadata": {
    "collapsed": false
   },
   "outputs": [
    {
     "data": {
      "text/plain": [
       "[('love', 0.996384859085083),\n",
       " ('tell', 0.9963504672050476),\n",
       " ('But', 0.996317982673645),\n",
       " ('when', 0.9962594509124756),\n",
       " ('see', 0.9962587952613831),\n",
       " ('more', 0.9962456226348877),\n",
       " ('And', 0.9962213635444641),\n",
       " ('were', 0.9961982369422913),\n",
       " ('so', 0.9961879849433899),\n",
       " ('him', 0.9961878061294556)]"
      ]
     },
     "execution_count": 251,
     "metadata": {},
     "output_type": "execute_result"
    }
   ],
   "source": [
    "model.most_similar(positive=['man','evil'],negative=['old'],topn=10)"
   ]
  },
  {
   "cell_type": "code",
   "execution_count": 246,
   "metadata": {
    "collapsed": false
   },
   "outputs": [
    {
     "data": {
      "text/plain": [
       "[('no.', 0.983350396156311),\n",
       " ('music', 0.9831910133361816),\n",
       " ('blood.', 0.9830998182296753),\n",
       " ('prithee', 0.9830881357192993),\n",
       " ('together.', 0.9830765724182129),\n",
       " ('fare', 0.9830427169799805),\n",
       " ('valour', 0.9829044938087463),\n",
       " ('rest', 0.982789933681488),\n",
       " ('merry', 0.9827880263328552),\n",
       " ('daughter,', 0.9827422499656677)]"
      ]
     },
     "execution_count": 246,
     "metadata": {},
     "output_type": "execute_result"
    }
   ],
   "source": [
    "model.most_similar(\"wolf\")"
   ]
  }
 ],
 "metadata": {
  "kernelspec": {
   "display_name": "Python 2",
   "language": "python",
   "name": "python2"
  },
  "language_info": {
   "codemirror_mode": {
    "name": "ipython",
    "version": 2
   },
   "file_extension": ".py",
   "mimetype": "text/x-python",
   "name": "python",
   "nbconvert_exporter": "python",
   "pygments_lexer": "ipython2",
   "version": "2.7.6"
  }
 },
 "nbformat": 4,
 "nbformat_minor": 0
}
